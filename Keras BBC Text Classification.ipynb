{
 "cells": [
  {
   "cell_type": "code",
   "execution_count": 1,
   "metadata": {},
   "outputs": [
    {
     "name": "stderr",
     "output_type": "stream",
     "text": [
      "Using TensorFlow backend.\n"
     ]
    },
    {
     "data": {
      "text/html": [
       "        <script type=\"text/javascript\">\n",
       "        window.PlotlyConfig = {MathJaxConfig: 'local'};\n",
       "        if (window.MathJax) {MathJax.Hub.Config({SVG: {font: \"STIX-Web\"}});}\n",
       "        if (typeof require !== 'undefined') {\n",
       "        require.undef(\"plotly\");\n",
       "        requirejs.config({\n",
       "            paths: {\n",
       "                'plotly': ['https://cdn.plot.ly/plotly-latest.min']\n",
       "            }\n",
       "        });\n",
       "        require(['plotly'], function(Plotly) {\n",
       "            window._Plotly = Plotly;\n",
       "        });\n",
       "        }\n",
       "        </script>\n",
       "        "
      ]
     },
     "metadata": {},
     "output_type": "display_data"
    }
   ],
   "source": [
    "# Keras\n",
    "from keras.preprocessing.text import Tokenizer\n",
    "from keras.preprocessing.sequence import pad_sequences\n",
    "from keras.models import Sequential\n",
    "from keras.layers import Dense, Flatten, LSTM, Conv1D, MaxPooling1D, Dropout, Activation\n",
    "from keras.layers.embeddings import Embedding\n",
    "import matplotlib.pyplot as plt\n",
    "\n",
    "from sklearn.metrics import roc_curve, auc, roc_auc_score\n",
    "from itertools import cycle\n",
    "\n",
    "## Plotly\n",
    "import plotly.offline as py\n",
    "import plotly.graph_objs as go\n",
    "py.init_notebook_mode(connected=True)\n",
    "\n",
    "# Others\n",
    "import nltk\n",
    "import string\n",
    "import numpy as np\n",
    "import pandas as pd\n",
    "from nltk.corpus import stopwords\n",
    "\n",
    "from sklearn.metrics import confusion_matrix\n",
    "import math\n",
    "\n",
    "from imblearn.over_sampling import RandomOverSampler\n",
    "\n",
    "import re\n",
    "from nltk.corpus import stopwords\n",
    "from nltk.stem import SnowballStemmer\n",
    "from string import punctuation\n",
    "\n",
    "from sklearn.manifold import TSNE\n",
    "\n",
    "import pandas as pd\n",
    "import numpy as np"
   ]
  },
  {
   "cell_type": "code",
   "execution_count": 2,
   "metadata": {},
   "outputs": [
    {
     "name": "stdout",
     "output_type": "stream",
     "text": [
      "<class 'pandas.core.frame.DataFrame'>\n",
      "Int64Index: 445 entries, 1665 to 666\n",
      "Data columns (total 2 columns):\n",
      "category    445 non-null object\n",
      "text        445 non-null object\n",
      "dtypes: object(2)\n",
      "memory usage: 10.4+ KB\n"
     ]
    }
   ],
   "source": [
    "path = r\"C:\\Users\\Abhishek\\bbc-text.csv\"\n",
    "\n",
    "#  https://storage.googleapis.com/dataset-uploader/bbc/bbc-text.csv \n",
    "\n",
    "# Read the file\n",
    "def read_data(path):\n",
    "    df = pd.read_csv(path, low_memory = False)\n",
    "    df = df.reset_index(drop = True) \n",
    "    return df.sample(frac = 0.20)\n",
    "\n",
    "df = read_data(path)\n",
    "df.info()"
   ]
  },
  {
   "cell_type": "code",
   "execution_count": 3,
   "metadata": {},
   "outputs": [
    {
     "name": "stdout",
     "output_type": "stream",
     "text": [
      "<class 'pandas.core.frame.DataFrame'>\n",
      "Int64Index: 445 entries, 1665 to 666\n",
      "Data columns (total 2 columns):\n",
      "category    445 non-null object\n",
      "text        445 non-null object\n",
      "dtypes: object(2)\n",
      "memory usage: 10.4+ KB\n"
     ]
    }
   ],
   "source": [
    "df = df[['category', \"text\"]]\n",
    "df = df.dropna()\n",
    "df.info()"
   ]
  },
  {
   "cell_type": "code",
   "execution_count": 4,
   "metadata": {},
   "outputs": [
    {
     "data": {
      "text/plain": [
       "sport            110\n",
       "business          93\n",
       "tech              82\n",
       "politics          81\n",
       "entertainment     79\n",
       "Name: category, dtype: int64"
      ]
     },
     "execution_count": 4,
     "metadata": {},
     "output_type": "execute_result"
    }
   ],
   "source": [
    "df[\"category\"].value_counts()"
   ]
  },
  {
   "cell_type": "code",
   "execution_count": 5,
   "metadata": {},
   "outputs": [
    {
     "name": "stdout",
     "output_type": "stream",
     "text": [
      "Wall time: 0 ns\n"
     ]
    }
   ],
   "source": [
    "%%time\n",
    "\n",
    "def undersample(dataframe, column, basis_col, count, sample_count):\n",
    "    \"\"\"\n",
    "    input:\n",
    "    dataframe: The dataframe to be sampled(Pandas DataFrame)\n",
    "    column: The column name based on which sampling is performed(String)\n",
    "    basis_col : Column using which stratified sampling is applied. Info will be retained even after undersampling.\n",
    "    count: The value count of individual data points inside the column under\n",
    "    consideration used as threshold (above which the rows will be discarded).\n",
    "    sample_count: The final sampled data count needed\n",
    "    output: Sampled Pandas DataDrame\n",
    "    Eg. undersample(df, \"TD\", 1000, 200) # (DataFrame, column name, value_count threshold, sampled count)\n",
    "    \"\"\"\n",
    "    above = pd.DataFrame()\n",
    "    below = pd.DataFrame()\n",
    "    data = pd.DataFrame()\n",
    "    df = dataframe\n",
    "    col = column\n",
    "    \n",
    "    max_val = df[basis_col].value_counts().head(1).values[0]\n",
    "    n = min(max_val, df[basis_col].value_counts().min())\n",
    "    stratified = df.groupby(basis_col).apply(lambda x: x.sample(n))\n",
    "    stratified.index = stratified.index.droplevel(0)\n",
    "    \n",
    "    above_count = pd.DataFrame(df[col].value_counts() > count)\n",
    "    below_count = pd.DataFrame(df[col].value_counts() < count)\n",
    "    \n",
    "    to_sample = above_count[above_count[col] == True].index.tolist()\n",
    "    not_sample = below_count[below_count[col] == True].index.tolist()\n",
    "    \n",
    "    for val in to_sample: # Sample with the given sample_count value \n",
    "        above = above.append(df[df[col] == val].sample(n = sample_count, \n",
    "                                                       replace = True ,\n",
    "                                                       random_state=1))\n",
    "    \n",
    "    for val in not_sample:\n",
    "        below = below.append(df[df[col] == val]) # Without Sampling for values less than given count\n",
    "        \n",
    "    data = pd.concat([above, stratified, below])\n",
    "    return data\n",
    "\n",
    "\n",
    "#df = undersample(df, 'category', \"text\", 5000, 5000)\n",
    "\n",
    "#df[\"Product\"].value_counts()"
   ]
  },
  {
   "cell_type": "code",
   "execution_count": 10,
   "metadata": {
    "scrolled": false
   },
   "outputs": [
    {
     "name": "stdout",
     "output_type": "stream",
     "text": [
      "Wall time: 0 ns\n"
     ]
    }
   ],
   "source": [
    "%%time\n",
    "\n",
    "def oversample(df, column, other_col, threshold):\n",
    "    \n",
    "    \"\"\"\n",
    "    input:\n",
    "    dataframe: The dataframe to be sampled(Pandas DataFrame)\n",
    "    column: The column name based on which sampling is performed(String)\n",
    "    other_column: The column name excluding the main column used for sampling(String)\n",
    "    threshold: the count value above which data needs to be sampled\n",
    "    output: Sampled Pandas DataDrame\n",
    "    Eg. oversample(df, \"Height\", [\"Age\", \"Gender\"], 200) # (DataFrame, column, other_col, threshold)\n",
    "    \n",
    "    \"\"\"\n",
    "    \n",
    "    df_maj = pd.DataFrame(df.groupby(column).size() >= threshold, columns= ['Values'])\n",
    "    \n",
    "    maj_cols = []\n",
    "    for val in df_maj[df_maj['Values'] == True].index.astype(str):\n",
    "        maj_cols.append(val)\n",
    "        \n",
    "    df_maj = df[df[column].to_frame().isin(maj_cols).all(axis=1)] \n",
    "    \n",
    "    \n",
    "    df_min = pd.DataFrame(df.groupby(column).size() < threshold, columns= ['Values'])\n",
    "    \n",
    "    min_cols = []\n",
    "    for val in df_min[df_min['Values'] == True].index.astype(str):\n",
    "        min_cols.append(val)\n",
    "    df_min = df[df[column].to_frame().isin(min_cols).all(axis=1)] \n",
    "    \n",
    "    selected_col_df_min = other_col\n",
    "    \n",
    "    ros = RandomOverSampler(random_state=0)\n",
    "    \n",
    "    X_resampled, y_resampled = ros.fit_resample(df_min[selected_col_df_min],df_min[column])\n",
    "\n",
    "    \n",
    "    y_resampled_df = pd.DataFrame(y_resampled)\n",
    "    \n",
    "    df_min_oversampled = pd.concat([X_resampled, y_resampled_df], axis=1)\n",
    "    \n",
    "    df_oversampled = pd.concat([df_maj, df_min_oversampled], sort=False)\n",
    "    \n",
    "    return (df_oversampled)\n",
    "\n",
    "#df = oversample(df, 'category', [\"text\"], 100)\n",
    "\n",
    "#df[\"Product\"].value_counts()"
   ]
  },
  {
   "cell_type": "code",
   "execution_count": 11,
   "metadata": {},
   "outputs": [
    {
     "name": "stdout",
     "output_type": "stream",
     "text": [
      "<class 'pandas.core.frame.DataFrame'>\n",
      "Int64Index: 445 entries, 1665 to 666\n",
      "Data columns (total 2 columns):\n",
      "category    445 non-null object\n",
      "text        445 non-null object\n",
      "dtypes: object(2)\n",
      "memory usage: 10.4+ KB\n"
     ]
    }
   ],
   "source": [
    "df.info()"
   ]
  },
  {
   "cell_type": "code",
   "execution_count": 12,
   "metadata": {},
   "outputs": [
    {
     "name": "stdout",
     "output_type": "stream",
     "text": [
      "Wall time: 1.28 s\n"
     ]
    },
    {
     "data": {
      "text/plain": [
       "1665    hamm bow women footbal legend mia hamm play fi...\n",
       "1518    job growth still slow creat fewer job expect j...\n",
       "1120    blair congratul bush win toni blair said look ...\n",
       "1548    usher lead soul train shortlist chart - top r ...\n",
       "1621    bookmak back aviat oscar aviat tip bookmak fav...\n",
       "54      rover reject third ferguson bid blackburn reje...\n",
       "1869    ferrero eye return top form former world numbe...\n",
       "1099    everton weir cool euro hope everton defend dav...\n",
       "249     keanu reev given hollywood star actor keanu re...\n",
       "1741    state act stop spammer state texa file lawsuit...\n",
       "Name: text, dtype: object"
      ]
     },
     "execution_count": 12,
     "metadata": {},
     "output_type": "execute_result"
    }
   ],
   "source": [
    "%%time\n",
    "\n",
    "def clean_text(text):\n",
    "\n",
    "    # Remove punctuation\n",
    "    text = str(text)\n",
    "    text = text.translate(string.punctuation)\n",
    "    \n",
    "    # Convert words to lower case and split them\n",
    "    text = text.lower().split()\n",
    "    \n",
    "    # Remove stop words\n",
    "    stops = set(stopwords.words(\"english\"))\n",
    "    text = [w for w in text if not w in stops and len(w) >= 3]\n",
    "    \n",
    "    text = \" \".join(text)\n",
    "    \n",
    "    # Clean the text\n",
    "    text = re.sub(r\"[^A-Za-z0-9^,!.\\/'+-=]\", \" \", text)\n",
    "    text = re.sub(r'[0-9]+', '', text)\n",
    "    text = re.sub(r\"what's\", \"what is \", text)\n",
    "    text = re.sub(r\"\\'s\", \" \", text)\n",
    "    text = re.sub(r\"\\'ve\", \" have \", text)\n",
    "    text = re.sub(r\"n't\", \" not \", text)\n",
    "    text = re.sub(r\"i'm\", \"i am \", text)\n",
    "    text = re.sub(r\"\\'re\", \" are \", text)\n",
    "    text = re.sub(r\"\\'d\", \" would \", text)\n",
    "    text = re.sub(r\"\\'ll\", \" will \", text)\n",
    "    text = re.sub(r\",\", \" \", text)\n",
    "    text = re.sub(r\"\\.\", \" \", text)\n",
    "    text = re.sub(r\"!\", \" ! \", text)\n",
    "    text = re.sub(r\"\\/\", \" \", text)\n",
    "    text = re.sub(r\"\\^\", \" ^ \", text)\n",
    "    text = re.sub(r\"\\+\", \" + \", text)\n",
    "    text = re.sub(r\"\\-\", \" - \", text)\n",
    "    text = re.sub(r\"\\=\", \" = \", text)\n",
    "    text = re.sub(r\"'\", \" \", text)\n",
    "    text = re.sub(r\"(\\d+)(k)\", r\"\\g<1>000\", text)\n",
    "    text = re.sub(r\":\", \" : \", text)\n",
    "    text = re.sub(r\" e g \", \" eg \", text)\n",
    "    text = re.sub(r\" b g \", \" bg \", text)\n",
    "    text = re.sub(r\" u s \", \" american \", text)\n",
    "    text = re.sub(r\"\\0s\", \"0\", text)\n",
    "    text = re.sub(r\" 9 11 \", \"911\", text)\n",
    "    text = re.sub(r\"e - mail\", \"email\", text)\n",
    "    text = re.sub(r\"j k\", \"jk\", text)\n",
    "    text = re.sub(r\"\\s{2,}\", \" \", text)\n",
    "    \n",
    "    # Stemming\n",
    "    text = text.split()\n",
    "    stemmer = SnowballStemmer('english')\n",
    "    stemmed_words = [stemmer.stem(word) for word in text]\n",
    "    text = \" \".join(stemmed_words)\n",
    "    \n",
    "    return text\n",
    "\n",
    "df['text'] = df['text'].map(lambda x: clean_text(x))\n",
    "df['text'].head(10)"
   ]
  },
  {
   "cell_type": "code",
   "execution_count": 14,
   "metadata": {},
   "outputs": [
    {
     "data": {
      "text/plain": [
       "7127"
      ]
     },
     "execution_count": 14,
     "metadata": {},
     "output_type": "execute_result"
    }
   ],
   "source": [
    "max_len = []\n",
    "for item in df['text']:\n",
    "    max_len.append(len(item))\n",
    "    \n",
    "max_length = max(max_len)\n",
    "max_length"
   ]
  },
  {
   "cell_type": "code",
   "execution_count": 16,
   "metadata": {},
   "outputs": [
    {
     "name": "stdout",
     "output_type": "stream",
     "text": [
      "['sport' 'business' 'politics' 'entertainment' 'tech']\n",
      "\n",
      "[[   0    0    0 ...    7  628 1003]]\n",
      "\n",
      "The shape of X_train data is : (311, 7128)\n",
      "The shape of X_test data is : (134, 7128)\n",
      "The shape of y_train data is : (311, 5)\n",
      "The shape of y_test data is : (134, 5)\n"
     ]
    }
   ],
   "source": [
    "# Create sequence\n",
    "\n",
    "from sklearn.model_selection import train_test_split\n",
    "\n",
    "labels = ['text']\n",
    "target = \"category\"\n",
    "\n",
    "classes = df[target].unique()\n",
    "print(classes)\n",
    "\n",
    "from sklearn.preprocessing import LabelEncoder\n",
    "\n",
    "global lb\n",
    "lb = LabelEncoder()\n",
    "y1 = df[target].values.tolist()\n",
    "lb.fit(y1)\n",
    "y = lb.transform(y1)\n",
    "\n",
    "from keras.utils import to_categorical\n",
    "y = to_categorical(y)\n",
    "\n",
    "vocabulary_size = 3000\n",
    "\n",
    "tokenizer = Tokenizer(num_words= vocabulary_size)\n",
    "\n",
    "tokenizer.fit_on_texts(df['text'])\n",
    "sequences = tokenizer.texts_to_sequences(df['text'])\n",
    "X = pad_sequences(sequences, maxlen = max_length+1)\n",
    "print()\n",
    "\n",
    "print(X[1:2])\n",
    "\n",
    "global X_train, X_test, y_train, y_test\n",
    "\n",
    "X_train, X_test, y_train, y_test = train_test_split(X, y, stratify = y, test_size = 0.3, random_state = 0)\n",
    "    \n",
    "print()\n",
    "print(\"The shape of X_train data is :\",X_train.shape)\n",
    "print(\"The shape of X_test data is :\",X_test.shape)\n",
    "print(\"The shape of y_train data is :\",y_train.shape)\n",
    "print(\"The shape of y_test data is :\",y_test.shape)"
   ]
  },
  {
   "cell_type": "code",
   "execution_count": 17,
   "metadata": {},
   "outputs": [
    {
     "name": "stdout",
     "output_type": "stream",
     "text": [
      "C:\\Users\\Abhishek\\saved_model\\consumer_nn_model.h5\n"
     ]
    }
   ],
   "source": [
    "from keras.callbacks import ModelCheckpoint, EarlyStopping\n",
    "import os \n",
    "\n",
    "save_dir = os.path.join(os.getcwd(), 'saved_model')\n",
    "model_name = 'consumer_nn_model.h5'\n",
    "\n",
    "if not os.path.isdir(save_dir):\n",
    "    os.makedirs(save_dir)\n",
    "    \n",
    "filepath = os.path.join(save_dir,model_name)\n",
    "print(filepath)\n",
    "\n",
    "checkpoint = ModelCheckpoint(filepath=filepath,\n",
    "                             verbose=1,\n",
    "                             save_best_only=True)\n",
    "\n",
    "early_stopping = EarlyStopping(monitor='loss', patience=3, verbose=0, mode='auto')\n",
    "callbacks = [checkpoint, early_stopping]"
   ]
  },
  {
   "cell_type": "code",
   "execution_count": 18,
   "metadata": {},
   "outputs": [],
   "source": [
    "def plot_loss(history):\n",
    "    print(history.history.keys())\n",
    "    \n",
    "    # Summarize history for accuracy\n",
    "    plt.plot(history.history['accuracy'])\n",
    "    plt.plot(history.history['val_accuracy'])\n",
    "    plt.title('model accuracy')\n",
    "    plt.ylabel('accuracy')\n",
    "    plt.xlabel('epoch')\n",
    "    plt.legend(['train', 'test'], loc='upper left')\n",
    "    plt.show()\n",
    "\n",
    "    # Summarize history for loss\n",
    "    plt.plot(history.history['loss'])\n",
    "    plt.plot(history.history['val_loss'])\n",
    "    plt.title('model loss')\n",
    "    plt.ylabel('loss')\n",
    "    plt.xlabel('epoch')\n",
    "    plt.legend(['train', 'test'], loc='upper left')\n",
    "    plt.show()\n"
   ]
  },
  {
   "cell_type": "code",
   "execution_count": 19,
   "metadata": {
    "scrolled": false
   },
   "outputs": [
    {
     "name": "stdout",
     "output_type": "stream",
     "text": [
      "WARNING:tensorflow:From C:\\Users\\Abhishek\\Anaconda3\\lib\\site-packages\\keras\\backend\\tensorflow_backend.py:4070: The name tf.nn.max_pool is deprecated. Please use tf.nn.max_pool2d instead.\n",
      "\n",
      "WARNING:tensorflow:From C:\\Users\\Abhishek\\Anaconda3\\lib\\site-packages\\keras\\backend\\tensorflow_backend.py:422: The name tf.global_variables is deprecated. Please use tf.compat.v1.global_variables instead.\n",
      "\n",
      "Train on 311 samples, validate on 134 samples\n",
      "Epoch 1/30\n",
      "311/311 [==============================] - 71s 229ms/step - loss: 1.6106 - accuracy: 0.2251 - val_loss: 1.5952 - val_accuracy: 0.2463\n",
      "\n",
      "Epoch 00001: val_loss improved from inf to 1.59519, saving model to C:\\Users\\Abhishek\\saved_model\\consumer_nn_model.h5\n",
      "Epoch 2/30\n",
      "311/311 [==============================] - 74s 238ms/step - loss: 1.5816 - accuracy: 0.2476 - val_loss: 1.5730 - val_accuracy: 0.2463\n",
      "\n",
      "Epoch 00002: val_loss improved from 1.59519 to 1.57296, saving model to C:\\Users\\Abhishek\\saved_model\\consumer_nn_model.h5\n",
      "Epoch 3/30\n",
      "311/311 [==============================] - 74s 238ms/step - loss: 1.5758 - accuracy: 0.3215 - val_loss: 1.5559 - val_accuracy: 0.2537\n",
      "\n",
      "Epoch 00003: val_loss improved from 1.57296 to 1.55588, saving model to C:\\Users\\Abhishek\\saved_model\\consumer_nn_model.h5\n",
      "Epoch 4/30\n",
      "311/311 [==============================] - 74s 238ms/step - loss: 1.4803 - accuracy: 0.4051 - val_loss: 1.4701 - val_accuracy: 0.4627\n",
      "\n",
      "Epoch 00004: val_loss improved from 1.55588 to 1.47011, saving model to C:\\Users\\Abhishek\\saved_model\\consumer_nn_model.h5\n",
      "Epoch 5/30\n",
      "311/311 [==============================] - 78s 252ms/step - loss: 1.3526 - accuracy: 0.5370 - val_loss: 1.1358 - val_accuracy: 0.5075\n",
      "\n",
      "Epoch 00005: val_loss improved from 1.47011 to 1.13581, saving model to C:\\Users\\Abhishek\\saved_model\\consumer_nn_model.h5\n",
      "Epoch 6/30\n",
      "311/311 [==============================] - 79s 253ms/step - loss: 1.0295 - accuracy: 0.7910 - val_loss: 1.1614 - val_accuracy: 0.6642\n",
      "\n",
      "Epoch 00006: val_loss did not improve from 1.13581\n",
      "Epoch 7/30\n",
      "311/311 [==============================] - 77s 249ms/step - loss: 0.8150 - accuracy: 0.8617 - val_loss: 0.9024 - val_accuracy: 0.7015\n",
      "\n",
      "Epoch 00007: val_loss improved from 1.13581 to 0.90239, saving model to C:\\Users\\Abhishek\\saved_model\\consumer_nn_model.h5\n",
      "Epoch 8/30\n",
      "311/311 [==============================] - 77s 249ms/step - loss: 0.5403 - accuracy: 0.9646 - val_loss: 0.7107 - val_accuracy: 0.8731\n",
      "\n",
      "Epoch 00008: val_loss improved from 0.90239 to 0.71074, saving model to C:\\Users\\Abhishek\\saved_model\\consumer_nn_model.h5\n",
      "Epoch 9/30\n",
      "311/311 [==============================] - 78s 251ms/step - loss: 0.3151 - accuracy: 0.9968 - val_loss: 0.5129 - val_accuracy: 0.8582\n",
      "\n",
      "Epoch 00009: val_loss improved from 0.71074 to 0.51293, saving model to C:\\Users\\Abhishek\\saved_model\\consumer_nn_model.h5\n",
      "Epoch 10/30\n",
      "311/311 [==============================] - 89s 285ms/step - loss: 0.1442 - accuracy: 0.9968 - val_loss: 0.3087 - val_accuracy: 0.9104\n",
      "\n",
      "Epoch 00010: val_loss improved from 0.51293 to 0.30869, saving model to C:\\Users\\Abhishek\\saved_model\\consumer_nn_model.h5\n",
      "Epoch 11/30\n",
      "311/311 [==============================] - 83s 267ms/step - loss: 0.0537 - accuracy: 1.0000 - val_loss: 0.2231 - val_accuracy: 0.9403\n",
      "\n",
      "Epoch 00011: val_loss improved from 0.30869 to 0.22310, saving model to C:\\Users\\Abhishek\\saved_model\\consumer_nn_model.h5\n",
      "Epoch 12/30\n",
      "311/311 [==============================] - 83s 266ms/step - loss: 0.0244 - accuracy: 1.0000 - val_loss: 0.1815 - val_accuracy: 0.9403\n",
      "\n",
      "Epoch 00012: val_loss improved from 0.22310 to 0.18150, saving model to C:\\Users\\Abhishek\\saved_model\\consumer_nn_model.h5\n",
      "Epoch 13/30\n",
      "311/311 [==============================] - 84s 271ms/step - loss: 0.0138 - accuracy: 1.0000 - val_loss: 0.1795 - val_accuracy: 0.9478\n",
      "\n",
      "Epoch 00013: val_loss improved from 0.18150 to 0.17955, saving model to C:\\Users\\Abhishek\\saved_model\\consumer_nn_model.h5\n",
      "Epoch 14/30\n",
      "311/311 [==============================] - 84s 271ms/step - loss: 0.0089 - accuracy: 1.0000 - val_loss: 0.1883 - val_accuracy: 0.9328\n",
      "\n",
      "Epoch 00014: val_loss did not improve from 0.17955\n",
      "Epoch 15/30\n",
      "311/311 [==============================] - 84s 270ms/step - loss: 0.0066 - accuracy: 1.0000 - val_loss: 0.1961 - val_accuracy: 0.9254\n",
      "\n",
      "Epoch 00015: val_loss did not improve from 0.17955\n",
      "Epoch 16/30\n",
      "311/311 [==============================] - 84s 270ms/step - loss: 0.0048 - accuracy: 1.0000 - val_loss: 0.2037 - val_accuracy: 0.9254\n",
      "\n",
      "Epoch 00016: val_loss did not improve from 0.17955\n",
      "Epoch 17/30\n",
      "311/311 [==============================] - 83s 268ms/step - loss: 0.0040 - accuracy: 1.0000 - val_loss: 0.2088 - val_accuracy: 0.9254\n",
      "\n",
      "Epoch 00017: val_loss did not improve from 0.17955\n",
      "Epoch 18/30\n",
      "311/311 [==============================] - 79s 253ms/step - loss: 0.0035 - accuracy: 1.0000 - val_loss: 0.2139 - val_accuracy: 0.9254\n",
      "\n",
      "Epoch 00018: val_loss did not improve from 0.17955\n",
      "Epoch 19/30\n",
      "311/311 [==============================] - 81s 260ms/step - loss: 0.0032 - accuracy: 1.0000 - val_loss: 0.2201 - val_accuracy: 0.9179\n",
      "\n",
      "Epoch 00019: val_loss did not improve from 0.17955\n",
      "Epoch 20/30\n",
      "311/311 [==============================] - 80s 258ms/step - loss: 0.0027 - accuracy: 1.0000 - val_loss: 0.2320 - val_accuracy: 0.9179\n",
      "\n",
      "Epoch 00020: val_loss did not improve from 0.17955\n",
      "Epoch 21/30\n",
      "311/311 [==============================] - 81s 261ms/step - loss: 0.0024 - accuracy: 1.0000 - val_loss: 0.2425 - val_accuracy: 0.9179\n",
      "\n",
      "Epoch 00021: val_loss did not improve from 0.17955\n",
      "Epoch 22/30\n",
      "311/311 [==============================] - 85s 273ms/step - loss: 0.0021 - accuracy: 1.0000 - val_loss: 0.2493 - val_accuracy: 0.9179\n",
      "\n",
      "Epoch 00022: val_loss did not improve from 0.17955\n",
      "Epoch 23/30\n",
      "311/311 [==============================] - 84s 271ms/step - loss: 0.0020 - accuracy: 1.0000 - val_loss: 0.2547 - val_accuracy: 0.9179\n",
      "\n",
      "Epoch 00023: val_loss did not improve from 0.17955\n",
      "Epoch 24/30\n",
      "311/311 [==============================] - 88s 283ms/step - loss: 0.0018 - accuracy: 1.0000 - val_loss: 0.2594 - val_accuracy: 0.9179\n",
      "\n",
      "Epoch 00024: val_loss did not improve from 0.17955\n",
      "Epoch 25/30\n",
      "311/311 [==============================] - 83s 268ms/step - loss: 0.0016 - accuracy: 1.0000 - val_loss: 0.2623 - val_accuracy: 0.9254\n",
      "\n",
      "Epoch 00025: val_loss did not improve from 0.17955\n",
      "Epoch 26/30\n",
      "311/311 [==============================] - 85s 273ms/step - loss: 0.0016 - accuracy: 1.0000 - val_loss: 0.2662 - val_accuracy: 0.9254\n",
      "\n",
      "Epoch 00026: val_loss did not improve from 0.17955\n",
      "Epoch 27/30\n",
      "311/311 [==============================] - 83s 266ms/step - loss: 0.0014 - accuracy: 1.0000 - val_loss: 0.2719 - val_accuracy: 0.9254\n",
      "\n",
      "Epoch 00027: val_loss did not improve from 0.17955\n",
      "Epoch 28/30\n",
      "311/311 [==============================] - 83s 268ms/step - loss: 0.0013 - accuracy: 1.0000 - val_loss: 0.2756 - val_accuracy: 0.9254\n",
      "\n",
      "Epoch 00028: val_loss did not improve from 0.17955\n",
      "Epoch 29/30\n",
      "311/311 [==============================] - 86s 276ms/step - loss: 0.0012 - accuracy: 1.0000 - val_loss: 0.2797 - val_accuracy: 0.9254\n",
      "\n",
      "Epoch 00029: val_loss did not improve from 0.17955\n",
      "Epoch 30/30\n",
      "311/311 [==============================] - 86s 277ms/step - loss: 0.0012 - accuracy: 1.0000 - val_loss: 0.2837 - val_accuracy: 0.9254\n",
      "\n",
      "Epoch 00030: val_loss did not improve from 0.17955\n",
      "dict_keys(['val_loss', 'val_accuracy', 'loss', 'accuracy'])\n"
     ]
    },
    {
     "data": {
      "image/png": "[encoded data removed]",
      "text/plain": [
       "<Figure size 432x288 with 1 Axes>"
      ]
     },
     "metadata": {
      "needs_background": "light"
     },
     "output_type": "display_data"
    },
    {
     "data": {
      "image/png": "[encoded data removed]",
      "text/plain": [
       "<Figure size 432x288 with 1 Axes>"
      ]
     },
     "metadata": {
      "needs_background": "light"
     },
     "output_type": "display_data"
    },
    {
     "name": "stdout",
     "output_type": "stream",
     "text": [
      "Wall time: 40min 45s\n"
     ]
    }
   ],
   "source": [
    "%%time\n",
    "def create_conv_model():\n",
    "    model_conv = Sequential()\n",
    "    model_conv.add(Embedding(vocabulary_size, 100, input_length = max_length+1))\n",
    "    model_conv.add(Dropout(0.25))\n",
    "    model_conv.add(Conv1D(64, 3, activation='relu'))\n",
    "    model_conv.add(MaxPooling1D(pool_size=4))\n",
    "    model_conv.add(LSTM(256))\n",
    "    model_conv.add(Dropout(0.25))\n",
    "    model_conv.add(Dense(len(classes), activation='softmax'))\n",
    "    model_conv.compile(loss='categorical_crossentropy', optimizer='adam', metrics=['accuracy'])\n",
    "    return model_conv\n",
    "\n",
    "model_conv = create_conv_model()\n",
    "history = model_conv.fit(X_train, y_train, validation_data = (X_test, y_test), \n",
    "                         epochs = 30, callbacks = callbacks)\n",
    "\n",
    "# Summarize history for accuracy\n",
    "plot_loss(history)"
   ]
  },
  {
   "cell_type": "code",
   "execution_count": 20,
   "metadata": {},
   "outputs": [],
   "source": [
    "def conf_matrix(y_test, pred, classes, lb):\n",
    "    \n",
    "    #cm = confusion_matrix(y_test.argmax(axis=1), pred.argmax(axis=1))\n",
    "    cm = confusion_matrix(y_test.argmax(axis=1), pred.argmax(axis=1))\n",
    "\n",
    "    recall = np.diag(cm) / np.sum(cm, axis = 1) # running horizontally across columns (axis 1)\n",
    "    precision = np.diag(cm) / np.sum(cm, axis = 0) # running vertically downwards across rows (axis 0)\n",
    "    \n",
    "    # Replacing NaN's by 0\n",
    "    recall = [0 if math.isnan(x) else x for x in recall]\n",
    "    precision = [0 if math.isnan(x) else x for x in precision]\n",
    "    \n",
    "    # Extracting class labels from label binarizer object\n",
    "    labels = classes\n",
    "    support = np.sum(cm, axis = 0)\n",
    "\n",
    "    df_recall = pd.DataFrame(recall, index = labels, columns = [\"Recall\"])\n",
    "    df_precision = pd.DataFrame(precision, index = labels, columns = [\"Precision\"])\n",
    "    df_support = pd.DataFrame(support, index = labels, columns = [\"Support\"])\n",
    "    \n",
    "    concat = [df_precision, df_recall, df_support]\n",
    "    acc = pd.concat(concat, axis = 1)\n",
    "\n",
    "    print(acc)\n",
    "    print()\n",
    "    \n",
    "    tp = sum(np.diag(cm))\n",
    "    total = sum(cm.flatten())\n",
    "    accuracy = (tp/total)*100\n",
    "    print(\"Accuracy :\", accuracy)\n"
   ]
  },
  {
   "cell_type": "code",
   "execution_count": 21,
   "metadata": {},
   "outputs": [
    {
     "data": {
      "text/plain": [
       "array([[6.6188333e-04, 1.1090714e-03, 3.4167801e-04, 3.6921888e-03,\n",
       "        9.9419516e-01],\n",
       "       [4.6206720e-04, 8.1097858e-07, 4.6985959e-05, 9.9921477e-01,\n",
       "        2.7544220e-04]], dtype=float32)"
      ]
     },
     "execution_count": 21,
     "metadata": {},
     "output_type": "execute_result"
    }
   ],
   "source": [
    "pred = model_conv.predict(X_test)\n",
    "pred[:2]"
   ]
  },
  {
   "cell_type": "code",
   "execution_count": 22,
   "metadata": {},
   "outputs": [
    {
     "name": "stdout",
     "output_type": "stream",
     "text": [
      "               Precision    Recall  Support\n",
      "sport           0.896552  0.928571       29\n",
      "business        1.000000  0.916667       22\n",
      "politics        0.814815  0.916667       27\n",
      "entertainment   0.941176  0.969697       34\n",
      "tech            1.000000  0.880000       22\n",
      "\n",
      "Accuracy : 92.53731343283582\n"
     ]
    }
   ],
   "source": [
    "conf_matrix(y_test, pred, classes, lb)"
   ]
  },
  {
   "cell_type": "code",
   "execution_count": 25,
   "metadata": {},
   "outputs": [
    {
     "data": {
      "image/png": "[encoded data removed]",
      "text/plain": [
       "<Figure size 1008x864 with 1 Axes>"
      ]
     },
     "metadata": {
      "needs_background": "light"
     },
     "output_type": "display_data"
    }
   ],
   "source": [
    "def roc_auc_metric(classes, y_test, predictions):\n",
    "    fpr = dict()\n",
    "    tpr = dict()\n",
    "    roc_auc = dict()\n",
    "    n_classes = len(classes)\n",
    "\n",
    "    for i in range(n_classes):\n",
    "        fpr[i], tpr[i], _ = roc_curve(y_test[:, i], predictions[:, i])\n",
    "\n",
    "        roc_auc[i] = auc(fpr[i], tpr[i])\n",
    "\n",
    "    colors = cycle(['blue', 'red', 'green', 'magenta', 'cyan', 'yellow', 'black', 'white', '0.75', '#eeefff', '0.55'])\n",
    "\n",
    "    plt.figure(figsize=(14,12)) # range(n_classes)\n",
    "    for i, color, cls in zip(range(n_classes), colors, classes):\n",
    "        plt.plot(fpr[i], tpr[i], linewidth = 3, color=color, label='ROC curve of class {0} (area = {1:0.2f})' ''.format(cls, roc_auc[i]))\n",
    "\n",
    "\n",
    "    plt.plot([0, 1], [0, 1], 'k--')\n",
    "    plt.xlim([-0.05, 1.0])\n",
    "    plt.ylim([0.0, 1.05])\n",
    "    plt.xlabel('False Positive Rate')\n",
    "    plt.ylabel('True Positive Rate')\n",
    "    plt.title('Receiver operating characteristic for multi-class data')\n",
    "    plt.legend(loc=\"lower right\")\n",
    "    plt.show()\n",
    "\n",
    "roc_auc_metric(classes, y_test, pred)"
   ]
  }
 ],
 "metadata": {
  "kernelspec": {
   "display_name": "Python 3",
   "language": "python",
   "name": "python3"
  },
  "language_info": {
   "codemirror_mode": {
    "name": "ipython",
    "version": 3
   },
   "file_extension": ".py",
   "mimetype": "text/x-python",
   "name": "python",
   "nbconvert_exporter": "python",
   "pygments_lexer": "ipython3",
   "version": "3.7.3"
  }
 },
 "nbformat": 4,
 "nbformat_minor": 2
}
